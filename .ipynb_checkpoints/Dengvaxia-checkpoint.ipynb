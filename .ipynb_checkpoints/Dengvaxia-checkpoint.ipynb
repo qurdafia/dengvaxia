{
 "cells": [
  {
   "cell_type": "markdown",
   "metadata": {},
   "source": [
    "<p>\n",
    "    Source: https://en.wikipedia.org/wiki/Dengvaxia_controversy\n",
    "</p>"
   ]
  },
  {
   "cell_type": "code",
   "execution_count": 52,
   "metadata": {},
   "outputs": [
    {
     "data": {
      "text/html": [
       "<div>\n",
       "<style scoped>\n",
       "    .dataframe tbody tr th:only-of-type {\n",
       "        vertical-align: middle;\n",
       "    }\n",
       "\n",
       "    .dataframe tbody tr th {\n",
       "        vertical-align: top;\n",
       "    }\n",
       "\n",
       "    .dataframe thead th {\n",
       "        text-align: right;\n",
       "    }\n",
       "</style>\n",
       "<table border=\"1\" class=\"dataframe\">\n",
       "  <thead>\n",
       "    <tr style=\"text-align: right;\">\n",
       "      <th></th>\n",
       "      <th>info</th>\n",
       "      <th>figures</th>\n",
       "    </tr>\n",
       "  </thead>\n",
       "  <tbody>\n",
       "    <tr>\n",
       "      <th>0</th>\n",
       "      <td>deaths_adults</td>\n",
       "      <td>3</td>\n",
       "    </tr>\n",
       "    <tr>\n",
       "      <th>1</th>\n",
       "      <td>deaths_children</td>\n",
       "      <td>103</td>\n",
       "    </tr>\n",
       "    <tr>\n",
       "      <th>2</th>\n",
       "      <td>deaths_total</td>\n",
       "      <td>106</td>\n",
       "    </tr>\n",
       "    <tr>\n",
       "      <th>3</th>\n",
       "      <td>with_dengue</td>\n",
       "      <td>1967</td>\n",
       "    </tr>\n",
       "    <tr>\n",
       "      <th>4</th>\n",
       "      <td>hospitalized</td>\n",
       "      <td>3281</td>\n",
       "    </tr>\n",
       "    <tr>\n",
       "      <th>5</th>\n",
       "      <td>total_respondents</td>\n",
       "      <td>837000</td>\n",
       "    </tr>\n",
       "  </tbody>\n",
       "</table>\n",
       "</div>"
      ],
      "text/plain": [
       "                info  figures\n",
       "0      deaths_adults        3\n",
       "1    deaths_children      103\n",
       "2       deaths_total      106\n",
       "3        with_dengue     1967\n",
       "4       hospitalized     3281\n",
       "5  total_respondents   837000"
      ]
     },
     "execution_count": 52,
     "metadata": {},
     "output_type": "execute_result"
    }
   ],
   "source": [
    "import matplotlib.pyplot as plt\n",
    "import numpy as np\n",
    "import pandas as pd\n",
    "from scipy.stats import binom_test\n",
    "\n",
    "\n",
    "deng = pd.read_csv('dengvaxia2.csv', delimiter=',')\n",
    "\n",
    "deng"
   ]
  },
  {
   "cell_type": "code",
   "execution_count": 53,
   "metadata": {},
   "outputs": [
    {
     "data": {
      "image/png": "[encoded data removed]",
      "text/plain": [
       "<Figure size 432x288 with 1 Axes>"
      ]
     },
     "metadata": {
      "needs_background": "light"
     },
     "output_type": "display_data"
    }
   ],
   "source": [
    "figures = deng['figures']\n",
    "info = deng['info']\n",
    "\n",
    "\n",
    "plt.plot(figures, info, marker=\"o\")\n",
    "plt.title('Dengvaxia Numbers as of December 2018')\n",
    "plt.xlabel('POPULATION')\n",
    "plt.show()"
   ]
  },
  {
   "cell_type": "markdown",
   "metadata": {},
   "source": [
    "<p>\n",
    "    In the visualization, we can see that the number is quite small comparing to the total number of Dengvaxia Vaccine recipients, but seeing small in the graph does not mean insignificant. We can go on further below.\n",
    "</p>"
   ]
  },
  {
   "cell_type": "code",
   "execution_count": 57,
   "metadata": {},
   "outputs": [
    {
     "name": "stdout",
     "output_type": "stream",
     "text": [
      "PERCENTAGES OF HOSPITAL CASES AGAINST THE TOTAL RECIPIENTS (837,000)\n",
      "---\n",
      "Hospitalized Percentage: 0.3919952210274791%\n",
      "Hospitalized Percentage (w/ Dengue): 0.23500597371565116%\n",
      "\n",
      "PERCENTAGES OF DEATHS AGAINST THE TOTAL RECIPIENTS (837,000)\n",
      "---\n",
      "Death Percentage (Total): 0.012664277180406212%\n",
      "Death Percentage (Children): 0.01230585424133811%\n",
      "Death Percentage (Adults): 0.00035842293906810036%\n",
      "\n",
      "PERCENTAGES OF DEATHS AGAINST HOSPITAL CASES (837,000)\n",
      "---\n",
      "Death Percentage (vs Hospital Cases): 3.230722340749771%\n"
     ]
    }
   ],
   "source": [
    "\n",
    "x = figures.reset_index()\n",
    "\n",
    "total_deaths = x['figures'][2]\n",
    "deaths_of_children = x['figures'][1]\n",
    "deaths_of_adults = x['figures'][0]\n",
    "\n",
    "hospitalized = x['figures'][4]\n",
    "hospitalized_with_dengue = x['figures'][3]\n",
    "\n",
    "total_victims = x['figures'][5]\n",
    "\n",
    "perc_death = (int(total_deaths) / int(total_victims)) * 100\n",
    "perc_death_children = (int(deaths_of_children) / int(total_victims)) * 100\n",
    "perc_death_adults = (int(deaths_of_adults) / int(total_victims)) * 100\n",
    "\n",
    "perc_hosp = (int(hospitalized) / int(total_victims)) * 100\n",
    "perc_hosp_with_dengue = (int(hospitalized_with_dengue) / int(total_victims)) * 100\n",
    "\n",
    "perc_death_hosp = (int(total_deaths) / int(hospitalized)) * 100\n",
    "\n",
    "print('PERCENTAGES OF HOSPITAL CASES AGAINST THE TOTAL RECIPIENTS (837,000)')\n",
    "print('---')\n",
    "print('Hospitalized Percentage: '+str(perc_hosp)+'%')\n",
    "print('Hospitalized Percentage (w/ Dengue): '+str(perc_hosp_with_dengue)+'%')\n",
    "print('')\n",
    "print('PERCENTAGES OF DEATHS AGAINST THE TOTAL RECIPIENTS (837,000)')\n",
    "print('---')\n",
    "print('Death Percentage (Total): '+str(perc_death)+'%')\n",
    "print('Death Percentage (Children): '+str(perc_death_children)+'%')\n",
    "print('Death Percentage (Adults): '+str(perc_death_adults)+'%')\n",
    "print('')\n",
    "print('PERCENTAGES OF DEATHS AGAINST HOSPITAL CASES (837,000)')\n",
    "print('---')\n",
    "print('Death Percentage (vs Hospital Cases): '+str(perc_death_hosp)+'%')\n",
    "\n"
   ]
  },
  {
   "cell_type": "markdown",
   "metadata": {},
   "source": [
    "<hr />\n",
    "<p><strong>Per WHO Report (2014)</strong></p>\n",
    "<p>\n",
    "    The National Epidemiology Center of the Philippines' Department of Health reports a total of 59,943 dengue cases from January 1 to September 6, 2014. This is 59.57% lower compared to the same time period last year (148,279).\n",
    "</p>\n",
    "<p>\n",
    "Of the total cases, 10.47% came from Northern Mindanao (Region X), 9.6% from CARAGA (Region XIII), 9.19% from Davao Region (Region 11). Next is from Region IV-A and , Region III, which are 8.93% and 8.01% respectively, to the overall figure.\n",
    "</p>\n",
    "<p>\n",
    "Majority of the infected patients were 5 to 14 year old children (38.91% of the total cases), and more than half were males (52.77%). A total of 242 deaths (CFR 0.40%) was recorded since January 2014, and most of them were children.\n",
    "</p>\n",
    "<p>\n",
    "  Source: http://origin.wpro.who.int/philippines/areas/communicable_diseases/dengue/continuation_dengue_area_page/en/\n",
    "</p>\n",
    "<hr />\n",
    "<p>Therfore, comparing the recent numbers versus the numbers in 2014, we can assume that...</p>"
   ]
  },
  {
   "cell_type": "code",
   "execution_count": 58,
   "metadata": {},
   "outputs": [
    {
     "name": "stdout",
     "output_type": "stream",
     "text": [
      "PERCENTAGES OF DEATHS IN 2014\n",
      "---\n",
      "Death Percentage (2014): 0.4037168643544701%\n"
     ]
    }
   ],
   "source": [
    "\n",
    "perc_death_2014 = (242) / (59943) * 100\n",
    "\n",
    "print('PERCENTAGES OF DEATHS IN 2014')\n",
    "print('---')\n",
    "print('Death Percentage (2014): '+str(perc_death_2014)+'%')\n"
   ]
  },
  {
   "cell_type": "markdown",
   "metadata": {},
   "source": [
    "<p>\n",
    "    Thus, by binomial test, we can have p = 0.403 (as the percentage of death in 2014), x = total_deaths (the current number of deaths), n = hospitalized (the current number of hospital cases).\n",
    "</p>"
   ]
  },
  {
   "cell_type": "code",
   "execution_count": 59,
   "metadata": {},
   "outputs": [
    {
     "name": "stdout",
     "output_type": "stream",
     "text": [
      "P-Value: 0.0\n"
     ]
    }
   ],
   "source": [
    "pval = binom_test(total_deaths, n=hospitalized, p=perc_death_2014)\n",
    "\n",
    "print('P-Value: '+str(pval))"
   ]
  },
  {
   "cell_type": "markdown",
   "metadata": {},
   "source": [
    "<h4>CONCLUSION:</h4>\n",
    "<hr />\n",
    "<p>\n",
    "    As we can see, the P-Value result is equal or closer to zero. It is less than the alpha value which is equal to 0.5. Thus, our result is hightly significant.\n",
    "</p>\n",
    "<p>\n",
    "    By using Binomial Test in Python, we can state that the current numbers of Dengvaxia cases is higly significant. Therefore it is higly recommended that the government must investigate more.\n",
    "</p>\n",
    "<hr />"
   ]
  },
  {
   "cell_type": "code",
   "execution_count": null,
   "metadata": {},
   "outputs": [],
   "source": []
  }
 ],
 "metadata": {
  "kernelspec": {
   "display_name": "Python 3",
   "language": "python",
   "name": "python3"
  }
 },
 "nbformat": 4,
 "nbformat_minor": 2
}
